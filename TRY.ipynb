{
  "nbformat": 4,
  "nbformat_minor": 0,
  "metadata": {
    "colab": {
      "provenance": []
    },
    "kernelspec": {
      "name": "python3",
      "display_name": "Python 3"
    },
    "language_info": {
      "name": "python"
    }
  },
  "cells": [
    {
      "cell_type": "code",
      "source": [
        "import yfinance as yf\n",
        "import numpy as np\n",
        "import pandas as pd\n",
        "import matplotlib.pyplot as plt\n",
        "from sklearn.preprocessing import MinMaxScaler\n",
        "from tensorflow.keras.models import Sequential\n",
        "from tensorflow.keras.layers import LSTM, Dense\n",
        "import requests # Digunakan untuk mengambil data dari API (misalnya kurs)\n",
        "import json # Digunakan untuk memproses data JSON dari API"
      ],
      "metadata": {
        "collapsed": true,
        "id": "1fhqKEvojp5s"
      },
      "execution_count": 1,
      "outputs": []
    },
    {
      "cell_type": "code",
      "source": [
        "# --- 1. Pengambilan Data ---\n",
        "print(\"\\n--- 1. Pengambilan Data ---\")\n",
        "\n",
        "# Mengunduh data historis Bitcoin (BTC-USD) dari Yahoo Finance.\n",
        "df = yf.download('BTC-USD', start='2015-01-01', end='2025-06-24')\n",
        "\n",
        "df.head()"
      ],
      "metadata": {
        "colab": {
          "base_uri": "https://localhost:8080/",
          "height": 356
        },
        "id": "4I3Q1_b4jYLU",
        "outputId": "013b24b1-bfc9-43d6-acf9-5cd76fa56784"
      },
      "execution_count": 8,
      "outputs": [
        {
          "output_type": "stream",
          "name": "stderr",
          "text": [
            "/tmp/ipython-input-8-3735948355.py:5: FutureWarning: YF.download() has changed argument auto_adjust default to True\n",
            "  df = yf.download('BTC-USD', start='2015-01-01', end='2025-06-24')\n",
            "\r[*********************100%***********************]  1 of 1 completed"
          ]
        },
        {
          "output_type": "stream",
          "name": "stdout",
          "text": [
            "\n",
            "--- 1. Pengambilan Data ---\n"
          ]
        },
        {
          "output_type": "stream",
          "name": "stderr",
          "text": [
            "\n"
          ]
        },
        {
          "output_type": "execute_result",
          "data": {
            "text/plain": [
              "Price            Close        High         Low        Open    Volume\n",
              "Ticker         BTC-USD     BTC-USD     BTC-USD     BTC-USD   BTC-USD\n",
              "Date                                                                \n",
              "2015-01-01  314.248993  320.434998  314.002991  320.434998   8036550\n",
              "2015-01-02  315.032013  315.838989  313.565002  314.079010   7860650\n",
              "2015-01-03  281.082001  315.149994  281.082001  314.846008  33054400\n",
              "2015-01-04  264.195007  287.230011  257.612000  281.145996  55629100\n",
              "2015-01-05  274.473999  278.341003  265.084015  265.084015  43962800"
            ],
            "text/html": [
              "\n",
              "  <div id=\"df-d69b1d52-a67e-428b-a22c-942996f1249b\" class=\"colab-df-container\">\n",
              "    <div>\n",
              "<style scoped>\n",
              "    .dataframe tbody tr th:only-of-type {\n",
              "        vertical-align: middle;\n",
              "    }\n",
              "\n",
              "    .dataframe tbody tr th {\n",
              "        vertical-align: top;\n",
              "    }\n",
              "\n",
              "    .dataframe thead tr th {\n",
              "        text-align: left;\n",
              "    }\n",
              "\n",
              "    .dataframe thead tr:last-of-type th {\n",
              "        text-align: right;\n",
              "    }\n",
              "</style>\n",
              "<table border=\"1\" class=\"dataframe\">\n",
              "  <thead>\n",
              "    <tr>\n",
              "      <th>Price</th>\n",
              "      <th>Close</th>\n",
              "      <th>High</th>\n",
              "      <th>Low</th>\n",
              "      <th>Open</th>\n",
              "      <th>Volume</th>\n",
              "    </tr>\n",
              "    <tr>\n",
              "      <th>Ticker</th>\n",
              "      <th>BTC-USD</th>\n",
              "      <th>BTC-USD</th>\n",
              "      <th>BTC-USD</th>\n",
              "      <th>BTC-USD</th>\n",
              "      <th>BTC-USD</th>\n",
              "    </tr>\n",
              "    <tr>\n",
              "      <th>Date</th>\n",
              "      <th></th>\n",
              "      <th></th>\n",
              "      <th></th>\n",
              "      <th></th>\n",
              "      <th></th>\n",
              "    </tr>\n",
              "  </thead>\n",
              "  <tbody>\n",
              "    <tr>\n",
              "      <th>2015-01-01</th>\n",
              "      <td>314.248993</td>\n",
              "      <td>320.434998</td>\n",
              "      <td>314.002991</td>\n",
              "      <td>320.434998</td>\n",
              "      <td>8036550</td>\n",
              "    </tr>\n",
              "    <tr>\n",
              "      <th>2015-01-02</th>\n",
              "      <td>315.032013</td>\n",
              "      <td>315.838989</td>\n",
              "      <td>313.565002</td>\n",
              "      <td>314.079010</td>\n",
              "      <td>7860650</td>\n",
              "    </tr>\n",
              "    <tr>\n",
              "      <th>2015-01-03</th>\n",
              "      <td>281.082001</td>\n",
              "      <td>315.149994</td>\n",
              "      <td>281.082001</td>\n",
              "      <td>314.846008</td>\n",
              "      <td>33054400</td>\n",
              "    </tr>\n",
              "    <tr>\n",
              "      <th>2015-01-04</th>\n",
              "      <td>264.195007</td>\n",
              "      <td>287.230011</td>\n",
              "      <td>257.612000</td>\n",
              "      <td>281.145996</td>\n",
              "      <td>55629100</td>\n",
              "    </tr>\n",
              "    <tr>\n",
              "      <th>2015-01-05</th>\n",
              "      <td>274.473999</td>\n",
              "      <td>278.341003</td>\n",
              "      <td>265.084015</td>\n",
              "      <td>265.084015</td>\n",
              "      <td>43962800</td>\n",
              "    </tr>\n",
              "  </tbody>\n",
              "</table>\n",
              "</div>\n",
              "    <div class=\"colab-df-buttons\">\n",
              "\n",
              "  <div class=\"colab-df-container\">\n",
              "    <button class=\"colab-df-convert\" onclick=\"convertToInteractive('df-d69b1d52-a67e-428b-a22c-942996f1249b')\"\n",
              "            title=\"Convert this dataframe to an interactive table.\"\n",
              "            style=\"display:none;\">\n",
              "\n",
              "  <svg xmlns=\"http://www.w3.org/2000/svg\" height=\"24px\" viewBox=\"0 -960 960 960\">\n",
              "    <path d=\"M120-120v-720h720v720H120Zm60-500h600v-160H180v160Zm220 220h160v-160H400v160Zm0 220h160v-160H400v160ZM180-400h160v-160H180v160Zm440 0h160v-160H620v160ZM180-180h160v-160H180v160Zm440 0h160v-160H620v160Z\"/>\n",
              "  </svg>\n",
              "    </button>\n",
              "\n",
              "  <style>\n",
              "    .colab-df-container {\n",
              "      display:flex;\n",
              "      gap: 12px;\n",
              "    }\n",
              "\n",
              "    .colab-df-convert {\n",
              "      background-color: #E8F0FE;\n",
              "      border: none;\n",
              "      border-radius: 50%;\n",
              "      cursor: pointer;\n",
              "      display: none;\n",
              "      fill: #1967D2;\n",
              "      height: 32px;\n",
              "      padding: 0 0 0 0;\n",
              "      width: 32px;\n",
              "    }\n",
              "\n",
              "    .colab-df-convert:hover {\n",
              "      background-color: #E2EBFA;\n",
              "      box-shadow: 0px 1px 2px rgba(60, 64, 67, 0.3), 0px 1px 3px 1px rgba(60, 64, 67, 0.15);\n",
              "      fill: #174EA6;\n",
              "    }\n",
              "\n",
              "    .colab-df-buttons div {\n",
              "      margin-bottom: 4px;\n",
              "    }\n",
              "\n",
              "    [theme=dark] .colab-df-convert {\n",
              "      background-color: #3B4455;\n",
              "      fill: #D2E3FC;\n",
              "    }\n",
              "\n",
              "    [theme=dark] .colab-df-convert:hover {\n",
              "      background-color: #434B5C;\n",
              "      box-shadow: 0px 1px 3px 1px rgba(0, 0, 0, 0.15);\n",
              "      filter: drop-shadow(0px 1px 2px rgba(0, 0, 0, 0.3));\n",
              "      fill: #FFFFFF;\n",
              "    }\n",
              "  </style>\n",
              "\n",
              "    <script>\n",
              "      const buttonEl =\n",
              "        document.querySelector('#df-d69b1d52-a67e-428b-a22c-942996f1249b button.colab-df-convert');\n",
              "      buttonEl.style.display =\n",
              "        google.colab.kernel.accessAllowed ? 'block' : 'none';\n",
              "\n",
              "      async function convertToInteractive(key) {\n",
              "        const element = document.querySelector('#df-d69b1d52-a67e-428b-a22c-942996f1249b');\n",
              "        const dataTable =\n",
              "          await google.colab.kernel.invokeFunction('convertToInteractive',\n",
              "                                                    [key], {});\n",
              "        if (!dataTable) return;\n",
              "\n",
              "        const docLinkHtml = 'Like what you see? Visit the ' +\n",
              "          '<a target=\"_blank\" href=https://colab.research.google.com/notebooks/data_table.ipynb>data table notebook</a>'\n",
              "          + ' to learn more about interactive tables.';\n",
              "        element.innerHTML = '';\n",
              "        dataTable['output_type'] = 'display_data';\n",
              "        await google.colab.output.renderOutput(dataTable, element);\n",
              "        const docLink = document.createElement('div');\n",
              "        docLink.innerHTML = docLinkHtml;\n",
              "        element.appendChild(docLink);\n",
              "      }\n",
              "    </script>\n",
              "  </div>\n",
              "\n",
              "\n",
              "    <div id=\"df-a6cb0bc6-7115-41df-a686-a158143dd457\">\n",
              "      <button class=\"colab-df-quickchart\" onclick=\"quickchart('df-a6cb0bc6-7115-41df-a686-a158143dd457')\"\n",
              "                title=\"Suggest charts\"\n",
              "                style=\"display:none;\">\n",
              "\n",
              "<svg xmlns=\"http://www.w3.org/2000/svg\" height=\"24px\"viewBox=\"0 0 24 24\"\n",
              "     width=\"24px\">\n",
              "    <g>\n",
              "        <path d=\"M19 3H5c-1.1 0-2 .9-2 2v14c0 1.1.9 2 2 2h14c1.1 0 2-.9 2-2V5c0-1.1-.9-2-2-2zM9 17H7v-7h2v7zm4 0h-2V7h2v10zm4 0h-2v-4h2v4z\"/>\n",
              "    </g>\n",
              "</svg>\n",
              "      </button>\n",
              "\n",
              "<style>\n",
              "  .colab-df-quickchart {\n",
              "      --bg-color: #E8F0FE;\n",
              "      --fill-color: #1967D2;\n",
              "      --hover-bg-color: #E2EBFA;\n",
              "      --hover-fill-color: #174EA6;\n",
              "      --disabled-fill-color: #AAA;\n",
              "      --disabled-bg-color: #DDD;\n",
              "  }\n",
              "\n",
              "  [theme=dark] .colab-df-quickchart {\n",
              "      --bg-color: #3B4455;\n",
              "      --fill-color: #D2E3FC;\n",
              "      --hover-bg-color: #434B5C;\n",
              "      --hover-fill-color: #FFFFFF;\n",
              "      --disabled-bg-color: #3B4455;\n",
              "      --disabled-fill-color: #666;\n",
              "  }\n",
              "\n",
              "  .colab-df-quickchart {\n",
              "    background-color: var(--bg-color);\n",
              "    border: none;\n",
              "    border-radius: 50%;\n",
              "    cursor: pointer;\n",
              "    display: none;\n",
              "    fill: var(--fill-color);\n",
              "    height: 32px;\n",
              "    padding: 0;\n",
              "    width: 32px;\n",
              "  }\n",
              "\n",
              "  .colab-df-quickchart:hover {\n",
              "    background-color: var(--hover-bg-color);\n",
              "    box-shadow: 0 1px 2px rgba(60, 64, 67, 0.3), 0 1px 3px 1px rgba(60, 64, 67, 0.15);\n",
              "    fill: var(--button-hover-fill-color);\n",
              "  }\n",
              "\n",
              "  .colab-df-quickchart-complete:disabled,\n",
              "  .colab-df-quickchart-complete:disabled:hover {\n",
              "    background-color: var(--disabled-bg-color);\n",
              "    fill: var(--disabled-fill-color);\n",
              "    box-shadow: none;\n",
              "  }\n",
              "\n",
              "  .colab-df-spinner {\n",
              "    border: 2px solid var(--fill-color);\n",
              "    border-color: transparent;\n",
              "    border-bottom-color: var(--fill-color);\n",
              "    animation:\n",
              "      spin 1s steps(1) infinite;\n",
              "  }\n",
              "\n",
              "  @keyframes spin {\n",
              "    0% {\n",
              "      border-color: transparent;\n",
              "      border-bottom-color: var(--fill-color);\n",
              "      border-left-color: var(--fill-color);\n",
              "    }\n",
              "    20% {\n",
              "      border-color: transparent;\n",
              "      border-left-color: var(--fill-color);\n",
              "      border-top-color: var(--fill-color);\n",
              "    }\n",
              "    30% {\n",
              "      border-color: transparent;\n",
              "      border-left-color: var(--fill-color);\n",
              "      border-top-color: var(--fill-color);\n",
              "      border-right-color: var(--fill-color);\n",
              "    }\n",
              "    40% {\n",
              "      border-color: transparent;\n",
              "      border-right-color: var(--fill-color);\n",
              "      border-top-color: var(--fill-color);\n",
              "    }\n",
              "    60% {\n",
              "      border-color: transparent;\n",
              "      border-right-color: var(--fill-color);\n",
              "    }\n",
              "    80% {\n",
              "      border-color: transparent;\n",
              "      border-right-color: var(--fill-color);\n",
              "      border-bottom-color: var(--fill-color);\n",
              "    }\n",
              "    90% {\n",
              "      border-color: transparent;\n",
              "      border-bottom-color: var(--fill-color);\n",
              "    }\n",
              "  }\n",
              "</style>\n",
              "\n",
              "      <script>\n",
              "        async function quickchart(key) {\n",
              "          const quickchartButtonEl =\n",
              "            document.querySelector('#' + key + ' button');\n",
              "          quickchartButtonEl.disabled = true;  // To prevent multiple clicks.\n",
              "          quickchartButtonEl.classList.add('colab-df-spinner');\n",
              "          try {\n",
              "            const charts = await google.colab.kernel.invokeFunction(\n",
              "                'suggestCharts', [key], {});\n",
              "          } catch (error) {\n",
              "            console.error('Error during call to suggestCharts:', error);\n",
              "          }\n",
              "          quickchartButtonEl.classList.remove('colab-df-spinner');\n",
              "          quickchartButtonEl.classList.add('colab-df-quickchart-complete');\n",
              "        }\n",
              "        (() => {\n",
              "          let quickchartButtonEl =\n",
              "            document.querySelector('#df-a6cb0bc6-7115-41df-a686-a158143dd457 button');\n",
              "          quickchartButtonEl.style.display =\n",
              "            google.colab.kernel.accessAllowed ? 'block' : 'none';\n",
              "        })();\n",
              "      </script>\n",
              "    </div>\n",
              "\n",
              "    </div>\n",
              "  </div>\n"
            ],
            "application/vnd.google.colaboratory.intrinsic+json": {
              "type": "dataframe",
              "variable_name": "df",
              "summary": "{\n  \"name\": \"df\",\n  \"rows\": 3827,\n  \"fields\": [\n    {\n      \"column\": [\n        \"Date\",\n        \"\"\n      ],\n      \"properties\": {\n        \"dtype\": \"date\",\n        \"min\": \"2015-01-01 00:00:00\",\n        \"max\": \"2025-06-23 00:00:00\",\n        \"num_unique_values\": 3827,\n        \"samples\": [\n          \"2022-12-31 00:00:00\",\n          \"2025-03-02 00:00:00\",\n          \"2020-05-18 00:00:00\"\n        ],\n        \"semantic_type\": \"\",\n        \"description\": \"\"\n      }\n    },\n    {\n      \"column\": [\n        \"Close\",\n        \"BTC-USD\"\n      ],\n      \"properties\": {\n        \"dtype\": \"number\",\n        \"std\": 26854.88773384975,\n        \"min\": 178.10299682617188,\n        \"max\": 111673.28125,\n        \"num_unique_values\": 3824,\n        \"samples\": [\n          30145.888671875,\n          94248.3515625,\n          9729.0380859375\n        ],\n        \"semantic_type\": \"\",\n        \"description\": \"\"\n      }\n    },\n    {\n      \"column\": [\n        \"High\",\n        \"BTC-USD\"\n      ],\n      \"properties\": {\n        \"dtype\": \"number\",\n        \"std\": 27357.347858108435,\n        \"min\": 211.7310028076172,\n        \"max\": 111970.171875,\n        \"num_unique_values\": 3824,\n        \"samples\": [\n          30336.400390625,\n          95043.4375,\n          9836.0478515625\n        ],\n        \"semantic_type\": \"\",\n        \"description\": \"\"\n      }\n    },\n    {\n      \"column\": [\n        \"Low\",\n        \"BTC-USD\"\n      ],\n      \"properties\": {\n        \"dtype\": \"number\",\n        \"std\": 26268.34492994278,\n        \"min\": 171.50999450683594,\n        \"max\": 109285.0703125,\n        \"num_unique_values\": 3825,\n        \"samples\": [\n          43591.3203125,\n          85040.2109375,\n          9539.6240234375\n        ],\n        \"semantic_type\": \"\",\n        \"description\": \"\"\n      }\n    },\n    {\n      \"column\": [\n        \"Open\",\n        \"BTC-USD\"\n      ],\n      \"properties\": {\n        \"dtype\": \"number\",\n        \"std\": 26826.02891180502,\n        \"min\": 176.89700317382812,\n        \"max\": 111679.359375,\n        \"num_unique_values\": 3824,\n        \"samples\": [\n          30249.626953125,\n          86036.2578125,\n          9727.0634765625\n        ],\n        \"semantic_type\": \"\",\n        \"description\": \"\"\n      }\n    },\n    {\n      \"column\": [\n        \"Volume\",\n        \"BTC-USD\"\n      ],\n      \"properties\": {\n        \"dtype\": \"number\",\n        \"std\": 21040531617,\n        \"min\": 7860650,\n        \"max\": 350967941479,\n        \"num_unique_values\": 3827,\n        \"samples\": [\n          11239186456,\n          58398341092,\n          41827139896\n        ],\n        \"semantic_type\": \"\",\n        \"description\": \"\"\n      }\n    }\n  ]\n}"
            }
          },
          "metadata": {},
          "execution_count": 8
        }
      ]
    },
    {
      "cell_type": "code",
      "source": [
        "# --- 2. Pra-pemrosesan Data ---\n",
        "print(\"\\n--- 2. Pra-pemrosesan Data ---\")\n",
        "data = df[['Close']].values\n",
        "print(f\"Bentuk data harga penutupan sebelum normalisasi: {data.shape}\")\n",
        "\n",
        "\n",
        "scaler = MinMaxScaler(feature_range=(0, 1))\n",
        "scaled_data = scaler.fit_transform(data)\n",
        "print(f\"Bentuk data harga setelah normalisasi: {scaled_data.shape}\")\n",
        "print(\"Data harga berhasil dinormalisasi ke rentang [0, 1].\")\n",
        "\n",
        "def create_multistep_sequences(data, input_window=60, output_window=7):\n",
        "    X, y = [], []\n",
        "    for i in range(len(data) - input_window - output_window):\n",
        "        X.append(data[i:(i + input_window), 0])\n",
        "        y.append(data[(i + input_window):(i + input_window + output_window), 0])\n",
        "    return np.array(X), np.array(y)"
      ],
      "metadata": {
        "id": "ZbyfFNhJoN2r",
        "colab": {
          "base_uri": "https://localhost:8080/"
        },
        "outputId": "5ae539e4-dae1-410b-97e4-3ec9f5623c6a"
      },
      "execution_count": 9,
      "outputs": [
        {
          "output_type": "stream",
          "name": "stdout",
          "text": [
            "\n",
            "--- 2. Pra-pemrosesan Data ---\n",
            "Bentuk data harga penutupan sebelum normalisasi: (3827, 1)\n",
            "Bentuk data harga setelah normalisasi: (3827, 1)\n",
            "Data harga berhasil dinormalisasi ke rentang [0, 1].\n"
          ]
        }
      ]
    },
    {
      "cell_type": "code",
      "source": [
        "INPUT_WINDOW = 60 # 60 hari historis sebagai input untuk prediksi.\n",
        "OUTPUT_WINDOW = 7 # 7 hari ke depan sebagai target prediksi.\n",
        "\n",
        "X, y = create_multistep_sequences(scaled_data, INPUT_WINDOW, OUTPUT_WINDOW)\n",
        "\n",
        "print(f\"Bentuk urutan input (X) setelah pembuatan sequences: {X.shape}\")\n",
        "print(f\"Bentuk urutan output (y) setelah pembuatan sequences: {y.shape}\")\n",
        "print(\"Urutan data multi-step berhasil dibuat.\")"
      ],
      "metadata": {
        "id": "DlUWjW_soU_I",
        "colab": {
          "base_uri": "https://localhost:8080/"
        },
        "outputId": "d6597647-4192-4735-f92f-10149b6a11b5"
      },
      "execution_count": 11,
      "outputs": [
        {
          "output_type": "stream",
          "name": "stdout",
          "text": [
            "Bentuk urutan input (X) setelah pembuatan sequences: (3760, 60)\n",
            "Bentuk urutan output (y) setelah pembuatan sequences: (3760, 7)\n",
            "Urutan data multi-step berhasil dibuat.\n"
          ]
        }
      ]
    },
    {
      "cell_type": "code",
      "source": [
        "# Membagi data yang sudah di-sequence menjadi set pelatihan dan pengujian.\n",
        "train_size = int(0.8 * len(X))\n",
        "X_train, X_test = X[:train_size], X[train_size:]\n",
        "y_train, y_test = y[:train_size], y[train_size:]\n",
        "\n",
        "print(f\"Jumlah sampel pelatihan (X_train): {X_train.shape[0]}\")\n",
        "print(f\"Jumlah sampel pengujian (X_test): {X_test.shape[0]}\")\n",
        "print(\"Data berhasil dibagi menjadi set pelatihan dan pengujian.\")\n",
        "\n",
        "X_train = X_train.reshape((X_train.shape[0], X_train.shape[1], 1))\n",
        "X_test = X_test.reshape((X_test.shape[0], X_test.shape[1], 1))\n",
        "\n",
        "# Menampilkan bentuk akhir X_train dan X_test setelah reshape.\n",
        "print(f\"Bentuk X_train setelah reshape untuk LSTM: {X_train.shape}\")\n",
        "print(f\"Bentuk X_test setelah reshape untuk LSTM: {X_test.shape}\")\n",
        "print(\"Data input berhasil di-reshape untuk model LSTM.\")"
      ],
      "metadata": {
        "colab": {
          "base_uri": "https://localhost:8080/"
        },
        "id": "9VLSq5hOoZfS",
        "outputId": "6fe5bc77-80a1-438e-ac50-9146556de82b"
      },
      "execution_count": 12,
      "outputs": [
        {
          "output_type": "stream",
          "name": "stdout",
          "text": [
            "Jumlah sampel pelatihan (X_train): 3008\n",
            "Jumlah sampel pengujian (X_test): 752\n",
            "Data berhasil dibagi menjadi set pelatihan dan pengujian.\n",
            "Bentuk X_train setelah reshape untuk LSTM: (3008, 60, 1)\n",
            "Bentuk X_test setelah reshape untuk LSTM: (752, 60, 1)\n",
            "Data input berhasil di-reshape untuk model LSTM.\n"
          ]
        }
      ]
    },
    {
      "cell_type": "code",
      "source": [
        "# --- 3. Pembangunan dan Pelatihan Model LSTM ---\n",
        "print(\"\\n--- 3. Pembangunan dan Pelatihan Model LSTM ---\")\n",
        "\n",
        "model = Sequential()\n",
        "model.add(LSTM(64, input_shape=(X_train.shape[1], X_train.shape[2])))\n",
        "model.add(Dense(OUTPUT_WINDOW))\n",
        "\n",
        "model.compile(optimizer='adam', loss='mse')\n",
        "\n",
        "print(\"Ringkasan Model LSTM:\")\n",
        "model.summary()\n",
        "\n",
        "print(\"\\nMemulai pelatihan model...\")\n",
        "history = model.fit(X_train, y_train,\n",
        "                    epochs=50,\n",
        "                    batch_size=32,\n",
        "                    validation_split=0.1,\n",
        "                    verbose=1)\n",
        "print(\"Pelatihan model selesai.\")"
      ],
      "metadata": {
        "colab": {
          "base_uri": "https://localhost:8080/",
          "height": 1000
        },
        "id": "5-mFqRacodAR",
        "outputId": "a5f28813-ba80-4474-93ad-f444515d5fea"
      },
      "execution_count": 13,
      "outputs": [
        {
          "output_type": "stream",
          "name": "stdout",
          "text": [
            "\n",
            "--- 3. Pembangunan dan Pelatihan Model LSTM ---\n",
            "Ringkasan Model LSTM:\n"
          ]
        },
        {
          "output_type": "stream",
          "name": "stderr",
          "text": [
            "/usr/local/lib/python3.11/dist-packages/keras/src/layers/rnn/rnn.py:200: UserWarning: Do not pass an `input_shape`/`input_dim` argument to a layer. When using Sequential models, prefer using an `Input(shape)` object as the first layer in the model instead.\n",
            "  super().__init__(**kwargs)\n"
          ]
        },
        {
          "output_type": "display_data",
          "data": {
            "text/plain": [
              "\u001b[1mModel: \"sequential\"\u001b[0m\n"
            ],
            "text/html": [
              "<pre style=\"white-space:pre;overflow-x:auto;line-height:normal;font-family:Menlo,'DejaVu Sans Mono',consolas,'Courier New',monospace\"><span style=\"font-weight: bold\">Model: \"sequential\"</span>\n",
              "</pre>\n"
            ]
          },
          "metadata": {}
        },
        {
          "output_type": "display_data",
          "data": {
            "text/plain": [
              "┏━━━━━━━━━━━━━━━━━━━━━━━━━━━━━━━━━┳━━━━━━━━━━━━━━━━━━━━━━━━┳━━━━━━━━━━━━━━━┓\n",
              "┃\u001b[1m \u001b[0m\u001b[1mLayer (type)                   \u001b[0m\u001b[1m \u001b[0m┃\u001b[1m \u001b[0m\u001b[1mOutput Shape          \u001b[0m\u001b[1m \u001b[0m┃\u001b[1m \u001b[0m\u001b[1m      Param #\u001b[0m\u001b[1m \u001b[0m┃\n",
              "┡━━━━━━━━━━━━━━━━━━━━━━━━━━━━━━━━━╇━━━━━━━━━━━━━━━━━━━━━━━━╇━━━━━━━━━━━━━━━┩\n",
              "│ lstm (\u001b[38;5;33mLSTM\u001b[0m)                     │ (\u001b[38;5;45mNone\u001b[0m, \u001b[38;5;34m64\u001b[0m)             │        \u001b[38;5;34m16,896\u001b[0m │\n",
              "├─────────────────────────────────┼────────────────────────┼───────────────┤\n",
              "│ dense (\u001b[38;5;33mDense\u001b[0m)                   │ (\u001b[38;5;45mNone\u001b[0m, \u001b[38;5;34m7\u001b[0m)              │           \u001b[38;5;34m455\u001b[0m │\n",
              "└─────────────────────────────────┴────────────────────────┴───────────────┘\n"
            ],
            "text/html": [
              "<pre style=\"white-space:pre;overflow-x:auto;line-height:normal;font-family:Menlo,'DejaVu Sans Mono',consolas,'Courier New',monospace\">┏━━━━━━━━━━━━━━━━━━━━━━━━━━━━━━━━━┳━━━━━━━━━━━━━━━━━━━━━━━━┳━━━━━━━━━━━━━━━┓\n",
              "┃<span style=\"font-weight: bold\"> Layer (type)                    </span>┃<span style=\"font-weight: bold\"> Output Shape           </span>┃<span style=\"font-weight: bold\">       Param # </span>┃\n",
              "┡━━━━━━━━━━━━━━━━━━━━━━━━━━━━━━━━━╇━━━━━━━━━━━━━━━━━━━━━━━━╇━━━━━━━━━━━━━━━┩\n",
              "│ lstm (<span style=\"color: #0087ff; text-decoration-color: #0087ff\">LSTM</span>)                     │ (<span style=\"color: #00d7ff; text-decoration-color: #00d7ff\">None</span>, <span style=\"color: #00af00; text-decoration-color: #00af00\">64</span>)             │        <span style=\"color: #00af00; text-decoration-color: #00af00\">16,896</span> │\n",
              "├─────────────────────────────────┼────────────────────────┼───────────────┤\n",
              "│ dense (<span style=\"color: #0087ff; text-decoration-color: #0087ff\">Dense</span>)                   │ (<span style=\"color: #00d7ff; text-decoration-color: #00d7ff\">None</span>, <span style=\"color: #00af00; text-decoration-color: #00af00\">7</span>)              │           <span style=\"color: #00af00; text-decoration-color: #00af00\">455</span> │\n",
              "└─────────────────────────────────┴────────────────────────┴───────────────┘\n",
              "</pre>\n"
            ]
          },
          "metadata": {}
        },
        {
          "output_type": "display_data",
          "data": {
            "text/plain": [
              "\u001b[1m Total params: \u001b[0m\u001b[38;5;34m17,351\u001b[0m (67.78 KB)\n"
            ],
            "text/html": [
              "<pre style=\"white-space:pre;overflow-x:auto;line-height:normal;font-family:Menlo,'DejaVu Sans Mono',consolas,'Courier New',monospace\"><span style=\"font-weight: bold\"> Total params: </span><span style=\"color: #00af00; text-decoration-color: #00af00\">17,351</span> (67.78 KB)\n",
              "</pre>\n"
            ]
          },
          "metadata": {}
        },
        {
          "output_type": "display_data",
          "data": {
            "text/plain": [
              "\u001b[1m Trainable params: \u001b[0m\u001b[38;5;34m17,351\u001b[0m (67.78 KB)\n"
            ],
            "text/html": [
              "<pre style=\"white-space:pre;overflow-x:auto;line-height:normal;font-family:Menlo,'DejaVu Sans Mono',consolas,'Courier New',monospace\"><span style=\"font-weight: bold\"> Trainable params: </span><span style=\"color: #00af00; text-decoration-color: #00af00\">17,351</span> (67.78 KB)\n",
              "</pre>\n"
            ]
          },
          "metadata": {}
        },
        {
          "output_type": "display_data",
          "data": {
            "text/plain": [
              "\u001b[1m Non-trainable params: \u001b[0m\u001b[38;5;34m0\u001b[0m (0.00 B)\n"
            ],
            "text/html": [
              "<pre style=\"white-space:pre;overflow-x:auto;line-height:normal;font-family:Menlo,'DejaVu Sans Mono',consolas,'Courier New',monospace\"><span style=\"font-weight: bold\"> Non-trainable params: </span><span style=\"color: #00af00; text-decoration-color: #00af00\">0</span> (0.00 B)\n",
              "</pre>\n"
            ]
          },
          "metadata": {}
        },
        {
          "output_type": "stream",
          "name": "stdout",
          "text": [
            "\n",
            "Memulai pelatihan model...\n",
            "Epoch 1/50\n",
            "\u001b[1m85/85\u001b[0m \u001b[32m━━━━━━━━━━━━━━━━━━━━\u001b[0m\u001b[37m\u001b[0m \u001b[1m4s\u001b[0m 27ms/step - loss: 0.0152 - val_loss: 2.7897e-04\n",
            "Epoch 2/50\n",
            "\u001b[1m85/85\u001b[0m \u001b[32m━━━━━━━━━━━━━━━━━━━━\u001b[0m\u001b[37m\u001b[0m \u001b[1m2s\u001b[0m 26ms/step - loss: 5.1798e-04 - val_loss: 2.5449e-04\n",
            "Epoch 3/50\n",
            "\u001b[1m85/85\u001b[0m \u001b[32m━━━━━━━━━━━━━━━━━━━━\u001b[0m\u001b[37m\u001b[0m \u001b[1m3s\u001b[0m 34ms/step - loss: 4.3178e-04 - val_loss: 6.8062e-04\n",
            "Epoch 4/50\n",
            "\u001b[1m85/85\u001b[0m \u001b[32m━━━━━━━━━━━━━━━━━━━━\u001b[0m\u001b[37m\u001b[0m \u001b[1m4s\u001b[0m 24ms/step - loss: 5.0162e-04 - val_loss: 2.6985e-04\n",
            "Epoch 5/50\n",
            "\u001b[1m85/85\u001b[0m \u001b[32m━━━━━━━━━━━━━━━━━━━━\u001b[0m\u001b[37m\u001b[0m \u001b[1m2s\u001b[0m 24ms/step - loss: 4.5482e-04 - val_loss: 2.2268e-04\n",
            "Epoch 6/50\n",
            "\u001b[1m85/85\u001b[0m \u001b[32m━━━━━━━━━━━━━━━━━━━━\u001b[0m\u001b[37m\u001b[0m \u001b[1m3s\u001b[0m 24ms/step - loss: 4.5471e-04 - val_loss: 2.1398e-04\n",
            "Epoch 7/50\n",
            "\u001b[1m85/85\u001b[0m \u001b[32m━━━━━━━━━━━━━━━━━━━━\u001b[0m\u001b[37m\u001b[0m \u001b[1m3s\u001b[0m 32ms/step - loss: 4.2755e-04 - val_loss: 4.5040e-04\n",
            "Epoch 8/50\n",
            "\u001b[1m85/85\u001b[0m \u001b[32m━━━━━━━━━━━━━━━━━━━━\u001b[0m\u001b[37m\u001b[0m \u001b[1m5s\u001b[0m 27ms/step - loss: 4.0782e-04 - val_loss: 2.2527e-04\n",
            "Epoch 9/50\n",
            "\u001b[1m85/85\u001b[0m \u001b[32m━━━━━━━━━━━━━━━━━━━━\u001b[0m\u001b[37m\u001b[0m \u001b[1m2s\u001b[0m 24ms/step - loss: 3.9487e-04 - val_loss: 2.0890e-04\n",
            "Epoch 10/50\n",
            "\u001b[1m85/85\u001b[0m \u001b[32m━━━━━━━━━━━━━━━━━━━━\u001b[0m\u001b[37m\u001b[0m \u001b[1m2s\u001b[0m 24ms/step - loss: 4.2172e-04 - val_loss: 2.0110e-04\n",
            "Epoch 11/50\n",
            "\u001b[1m85/85\u001b[0m \u001b[32m━━━━━━━━━━━━━━━━━━━━\u001b[0m\u001b[37m\u001b[0m \u001b[1m3s\u001b[0m 32ms/step - loss: 3.7728e-04 - val_loss: 1.8632e-04\n",
            "Epoch 12/50\n",
            "\u001b[1m85/85\u001b[0m \u001b[32m━━━━━━━━━━━━━━━━━━━━\u001b[0m\u001b[37m\u001b[0m \u001b[1m2s\u001b[0m 26ms/step - loss: 3.2170e-04 - val_loss: 2.3243e-04\n",
            "Epoch 13/50\n",
            "\u001b[1m85/85\u001b[0m \u001b[32m━━━━━━━━━━━━━━━━━━━━\u001b[0m\u001b[37m\u001b[0m \u001b[1m2s\u001b[0m 27ms/step - loss: 2.9934e-04 - val_loss: 2.4170e-04\n",
            "Epoch 14/50\n",
            "\u001b[1m85/85\u001b[0m \u001b[32m━━━━━━━━━━━━━━━━━━━━\u001b[0m\u001b[37m\u001b[0m \u001b[1m2s\u001b[0m 24ms/step - loss: 2.8943e-04 - val_loss: 1.9284e-04\n",
            "Epoch 15/50\n",
            "\u001b[1m85/85\u001b[0m \u001b[32m━━━━━━━━━━━━━━━━━━━━\u001b[0m\u001b[37m\u001b[0m \u001b[1m2s\u001b[0m 24ms/step - loss: 3.0306e-04 - val_loss: 1.9910e-04\n",
            "Epoch 16/50\n",
            "\u001b[1m85/85\u001b[0m \u001b[32m━━━━━━━━━━━━━━━━━━━━\u001b[0m\u001b[37m\u001b[0m \u001b[1m4s\u001b[0m 41ms/step - loss: 3.5565e-04 - val_loss: 1.7450e-04\n",
            "Epoch 17/50\n",
            "\u001b[1m85/85\u001b[0m \u001b[32m━━━━━━━━━━━━━━━━━━━━\u001b[0m\u001b[37m\u001b[0m \u001b[1m2s\u001b[0m 24ms/step - loss: 3.0629e-04 - val_loss: 2.1173e-04\n",
            "Epoch 18/50\n",
            "\u001b[1m85/85\u001b[0m \u001b[32m━━━━━━━━━━━━━━━━━━━━\u001b[0m\u001b[37m\u001b[0m \u001b[1m2s\u001b[0m 24ms/step - loss: 2.6996e-04 - val_loss: 2.3271e-04\n",
            "Epoch 19/50\n",
            "\u001b[1m85/85\u001b[0m \u001b[32m━━━━━━━━━━━━━━━━━━━━\u001b[0m\u001b[37m\u001b[0m \u001b[1m2s\u001b[0m 24ms/step - loss: 3.0110e-04 - val_loss: 1.6712e-04\n",
            "Epoch 20/50\n",
            "\u001b[1m85/85\u001b[0m \u001b[32m━━━━━━━━━━━━━━━━━━━━\u001b[0m\u001b[37m\u001b[0m \u001b[1m2s\u001b[0m 26ms/step - loss: 3.2741e-04 - val_loss: 2.0733e-04\n",
            "Epoch 21/50\n",
            "\u001b[1m85/85\u001b[0m \u001b[32m━━━━━━━━━━━━━━━━━━━━\u001b[0m\u001b[37m\u001b[0m \u001b[1m3s\u001b[0m 32ms/step - loss: 2.7248e-04 - val_loss: 1.5967e-04\n",
            "Epoch 22/50\n",
            "\u001b[1m85/85\u001b[0m \u001b[32m━━━━━━━━━━━━━━━━━━━━\u001b[0m\u001b[37m\u001b[0m \u001b[1m3s\u001b[0m 31ms/step - loss: 2.8249e-04 - val_loss: 1.7072e-04\n",
            "Epoch 23/50\n",
            "\u001b[1m85/85\u001b[0m \u001b[32m━━━━━━━━━━━━━━━━━━━━\u001b[0m\u001b[37m\u001b[0m \u001b[1m2s\u001b[0m 24ms/step - loss: 2.5535e-04 - val_loss: 1.9624e-04\n",
            "Epoch 24/50\n",
            "\u001b[1m85/85\u001b[0m \u001b[32m━━━━━━━━━━━━━━━━━━━━\u001b[0m\u001b[37m\u001b[0m \u001b[1m2s\u001b[0m 24ms/step - loss: 2.5654e-04 - val_loss: 1.6947e-04\n",
            "Epoch 25/50\n",
            "\u001b[1m85/85\u001b[0m \u001b[32m━━━━━━━━━━━━━━━━━━━━\u001b[0m\u001b[37m\u001b[0m \u001b[1m3s\u001b[0m 24ms/step - loss: 2.8821e-04 - val_loss: 2.1855e-04\n",
            "Epoch 26/50\n",
            "\u001b[1m85/85\u001b[0m \u001b[32m━━━━━━━━━━━━━━━━━━━━\u001b[0m\u001b[37m\u001b[0m \u001b[1m3s\u001b[0m 29ms/step - loss: 2.5021e-04 - val_loss: 1.8139e-04\n",
            "Epoch 27/50\n",
            "\u001b[1m85/85\u001b[0m \u001b[32m━━━━━━━━━━━━━━━━━━━━\u001b[0m\u001b[37m\u001b[0m \u001b[1m3s\u001b[0m 31ms/step - loss: 2.7900e-04 - val_loss: 1.7288e-04\n",
            "Epoch 28/50\n",
            "\u001b[1m85/85\u001b[0m \u001b[32m━━━━━━━━━━━━━━━━━━━━\u001b[0m\u001b[37m\u001b[0m \u001b[1m5s\u001b[0m 24ms/step - loss: 2.5188e-04 - val_loss: 1.5656e-04\n",
            "Epoch 29/50\n",
            "\u001b[1m85/85\u001b[0m \u001b[32m━━━━━━━━━━━━━━━━━━━━\u001b[0m\u001b[37m\u001b[0m \u001b[1m2s\u001b[0m 24ms/step - loss: 2.6403e-04 - val_loss: 3.3275e-04\n",
            "Epoch 30/50\n",
            "\u001b[1m85/85\u001b[0m \u001b[32m━━━━━━━━━━━━━━━━━━━━\u001b[0m\u001b[37m\u001b[0m \u001b[1m3s\u001b[0m 27ms/step - loss: 2.8131e-04 - val_loss: 2.5390e-04\n",
            "Epoch 31/50\n",
            "\u001b[1m85/85\u001b[0m \u001b[32m━━━━━━━━━━━━━━━━━━━━\u001b[0m\u001b[37m\u001b[0m \u001b[1m4s\u001b[0m 41ms/step - loss: 2.6642e-04 - val_loss: 1.7237e-04\n",
            "Epoch 32/50\n",
            "\u001b[1m85/85\u001b[0m \u001b[32m━━━━━━━━━━━━━━━━━━━━\u001b[0m\u001b[37m\u001b[0m \u001b[1m4s\u001b[0m 32ms/step - loss: 2.4020e-04 - val_loss: 1.5729e-04\n",
            "Epoch 33/50\n",
            "\u001b[1m85/85\u001b[0m \u001b[32m━━━━━━━━━━━━━━━━━━━━\u001b[0m\u001b[37m\u001b[0m \u001b[1m6s\u001b[0m 47ms/step - loss: 2.7990e-04 - val_loss: 2.3742e-04\n",
            "Epoch 34/50\n",
            "\u001b[1m85/85\u001b[0m \u001b[32m━━━━━━━━━━━━━━━━━━━━\u001b[0m\u001b[37m\u001b[0m \u001b[1m3s\u001b[0m 35ms/step - loss: 2.9133e-04 - val_loss: 2.4223e-04\n",
            "Epoch 35/50\n",
            "\u001b[1m85/85\u001b[0m \u001b[32m━━━━━━━━━━━━━━━━━━━━\u001b[0m\u001b[37m\u001b[0m \u001b[1m3s\u001b[0m 29ms/step - loss: 2.5468e-04 - val_loss: 1.5807e-04\n",
            "Epoch 36/50\n",
            "\u001b[1m85/85\u001b[0m \u001b[32m━━━━━━━━━━━━━━━━━━━━\u001b[0m\u001b[37m\u001b[0m \u001b[1m2s\u001b[0m 24ms/step - loss: 2.2797e-04 - val_loss: 2.9748e-04\n",
            "Epoch 37/50\n",
            "\u001b[1m85/85\u001b[0m \u001b[32m━━━━━━━━━━━━━━━━━━━━\u001b[0m\u001b[37m\u001b[0m \u001b[1m3s\u001b[0m 24ms/step - loss: 2.4755e-04 - val_loss: 2.3602e-04\n",
            "Epoch 38/50\n",
            "\u001b[1m85/85\u001b[0m \u001b[32m━━━━━━━━━━━━━━━━━━━━\u001b[0m\u001b[37m\u001b[0m \u001b[1m3s\u001b[0m 40ms/step - loss: 2.4884e-04 - val_loss: 2.1844e-04\n",
            "Epoch 39/50\n",
            "\u001b[1m85/85\u001b[0m \u001b[32m━━━━━━━━━━━━━━━━━━━━\u001b[0m\u001b[37m\u001b[0m \u001b[1m2s\u001b[0m 25ms/step - loss: 2.3955e-04 - val_loss: 1.7314e-04\n",
            "Epoch 40/50\n",
            "\u001b[1m85/85\u001b[0m \u001b[32m━━━━━━━━━━━━━━━━━━━━\u001b[0m\u001b[37m\u001b[0m \u001b[1m3s\u001b[0m 32ms/step - loss: 2.4921e-04 - val_loss: 1.8497e-04\n",
            "Epoch 41/50\n",
            "\u001b[1m85/85\u001b[0m \u001b[32m━━━━━━━━━━━━━━━━━━━━\u001b[0m\u001b[37m\u001b[0m \u001b[1m2s\u001b[0m 24ms/step - loss: 2.4965e-04 - val_loss: 1.5177e-04\n",
            "Epoch 42/50\n",
            "\u001b[1m85/85\u001b[0m \u001b[32m━━━━━━━━━━━━━━━━━━━━\u001b[0m\u001b[37m\u001b[0m \u001b[1m3s\u001b[0m 27ms/step - loss: 2.5414e-04 - val_loss: 1.5913e-04\n",
            "Epoch 43/50\n",
            "\u001b[1m85/85\u001b[0m \u001b[32m━━━━━━━━━━━━━━━━━━━━\u001b[0m\u001b[37m\u001b[0m \u001b[1m3s\u001b[0m 35ms/step - loss: 2.1949e-04 - val_loss: 1.8884e-04\n",
            "Epoch 44/50\n",
            "\u001b[1m85/85\u001b[0m \u001b[32m━━━━━━━━━━━━━━━━━━━━\u001b[0m\u001b[37m\u001b[0m \u001b[1m2s\u001b[0m 24ms/step - loss: 2.2957e-04 - val_loss: 1.4044e-04\n",
            "Epoch 45/50\n",
            "\u001b[1m85/85\u001b[0m \u001b[32m━━━━━━━━━━━━━━━━━━━━\u001b[0m\u001b[37m\u001b[0m \u001b[1m3s\u001b[0m 24ms/step - loss: 2.4847e-04 - val_loss: 1.6909e-04\n",
            "Epoch 46/50\n",
            "\u001b[1m85/85\u001b[0m \u001b[32m━━━━━━━━━━━━━━━━━━━━\u001b[0m\u001b[37m\u001b[0m \u001b[1m2s\u001b[0m 24ms/step - loss: 2.3927e-04 - val_loss: 1.8440e-04\n",
            "Epoch 47/50\n",
            "\u001b[1m85/85\u001b[0m \u001b[32m━━━━━━━━━━━━━━━━━━━━\u001b[0m\u001b[37m\u001b[0m \u001b[1m2s\u001b[0m 24ms/step - loss: 2.1957e-04 - val_loss: 2.8689e-04\n",
            "Epoch 48/50\n",
            "\u001b[1m85/85\u001b[0m \u001b[32m━━━━━━━━━━━━━━━━━━━━\u001b[0m\u001b[37m\u001b[0m \u001b[1m3s\u001b[0m 32ms/step - loss: 2.6214e-04 - val_loss: 1.5330e-04\n",
            "Epoch 49/50\n",
            "\u001b[1m85/85\u001b[0m \u001b[32m━━━━━━━━━━━━━━━━━━━━\u001b[0m\u001b[37m\u001b[0m \u001b[1m3s\u001b[0m 30ms/step - loss: 2.4305e-04 - val_loss: 2.2229e-04\n",
            "Epoch 50/50\n",
            "\u001b[1m85/85\u001b[0m \u001b[32m━━━━━━━━━━━━━━━━━━━━\u001b[0m\u001b[37m\u001b[0m \u001b[1m2s\u001b[0m 25ms/step - loss: 2.3571e-04 - val_loss: 1.7321e-04\n",
            "Pelatihan model selesai.\n"
          ]
        }
      ]
    },
    {
      "cell_type": "code",
      "source": [
        "# Import fungsi metrik yang diperlukan dari scikit-learn\n",
        "from sklearn.metrics import mean_squared_error, mean_absolute_error\n",
        "import numpy as np # Pastikan numpy juga diimpor untuk np.sqrt\n",
        "\n",
        "# --- 4. Evaluasi Model ---\n",
        "print(\"\\n--- 4. Evaluasi Model ---\")\n",
        "\n",
        "# Menghitung metrik evaluasi kinerja model.\n",
        "# Kode di bawah ini sekarang akan berjalan dengan benar\n",
        "mse = mean_squared_error(y_test_rescaled, predictions_rescaled)\n",
        "rmse = np.sqrt(mse)\n",
        "mae = mean_absolute_error(y_test_rescaled, predictions_rescaled)\n",
        "\n",
        "print(f\"Mean Squared Error (MSE): {mse:.2f}\")\n",
        "print(f\"Root Mean Squared Error (RMSE): {rmse:.2f}\")\n",
        "print(f\"Mean Absolute Error (MAE): {mae:.2f}\")\n"
      ],
      "metadata": {
        "colab": {
          "base_uri": "https://localhost:8080/"
        },
        "id": "YApLiDknohP_",
        "outputId": "a7604685-62b9-4a12-ade5-db0102b552c9"
      },
      "execution_count": 16,
      "outputs": [
        {
          "output_type": "stream",
          "name": "stdout",
          "text": [
            "\n",
            "--- 4. Evaluasi Model ---\n",
            "Mean Squared Error (MSE): 41867102.94\n",
            "Root Mean Squared Error (RMSE): 6470.48\n",
            "Mean Absolute Error (MAE): 4525.93\n"
          ]
        }
      ]
    },
    {
      "cell_type": "code",
      "source": [
        "# --- 5. Visualisasi Hasil Prediksi ---\n",
        "print(\"\\n--- 5. Visualisasi Hasil Prediksi ---\")\n",
        "\n",
        "plt.figure(figsize=(15, 7))\n",
        "plt.plot(y_test_rescaled[:, 0], label='Harga Aktual (Hari ke-1)')\n",
        "plt.plot(predictions_rescaled[:, 0], label='Harga Prediksi (Hari ke-1)')\n",
        "plt.title('Perbandingan Harga Bitcoin Aktual vs. Prediksi (Hari ke-1)')\n",
        "plt.xlabel('Indeks Waktu (Sampel)')\n",
        "plt.ylabel('Harga (USD)')\n",
        "plt.legend()\n",
        "plt.grid(True)\n",
        "plt.show()\n",
        "print(\"Visualisasi perbandingan harga aktual vs. prediksi selesai.\")"
      ],
      "metadata": {
        "colab": {
          "base_uri": "https://localhost:8080/",
          "height": 623
        },
        "id": "TY-HcG1GotAr",
        "outputId": "4599df26-1dca-4627-b703-c256678f68b8"
      },
      "execution_count": 17,
      "outputs": [
        {
          "output_type": "stream",
          "name": "stdout",
          "text": [
            "\n",
            "--- 5. Visualisasi Hasil Prediksi ---\n"
          ]
        },
        {
          "output_type": "display_data",
          "data": {
            "text/plain": [
              "<Figure size 1500x700 with 1 Axes>"
            ],
            "image/png": "[encoded data removed]"
          },
          "metadata": {}
        },
        {
          "output_type": "stream",
          "name": "stdout",
          "text": [
            "Visualisasi perbandingan harga aktual vs. prediksi selesai.\n"
          ]
        }
      ]
    },
    {
      "cell_type": "code",
      "source": [
        "# --- 6. Prediksi Harga Bitcoin 7 Hari ke Depan ---\n",
        "print(\"\\n--- 6. Prediksi Harga Bitcoin 7 Hari ke Depan ---\")\n",
        "\n",
        "# Mengambil 60 hari terakhir dari data yang sudah dinormalisasi.\n",
        "last_sequence = scaled_data[-INPUT_WINDOW:].reshape(1, INPUT_WINDOW, 1)\n",
        "\n",
        "# Membuat prediksi 7 hari ke depan menggunakan model.\n",
        "future_prediction_scaled = model.predict(last_sequence, verbose=0)\n",
        "\n",
        "future_prices_usd = scaler.inverse_transform(future_prediction_scaled).flatten()\n",
        "\n",
        "print(\"Prediksi harga Bitcoin untuk 7 hari ke depan (USD):\")\n",
        "for i, price in enumerate(future_prices_usd):\n",
        "    print(f\"Hari ke-{i+1}: ${price:,.2f}\")\n",
        "\n",
        "# Mengambil kurs USD ke IDR dari API eksternal.\n",
        "print(\"\\nMengambil kurs USD ke IDR...\")\n",
        "try:\n",
        "    url = 'https://api.frankfurter.app/latest?from=USD&to=IDR'\n",
        "    response = requests.get(url)\n",
        "    response.raise_for_status()\n",
        "    data_exchange = response.json() # Mengurai respons JSON\n",
        "    usd_to_idr_rate = data_exchange['rates']['IDR'] # Mengambil kurs IDR\n",
        "    print(f\"Kurs USD ke IDR saat ini: Rp {usd_to_idr_rate:,.2f}\")\n",
        "except requests.exceptions.RequestException as e:\n",
        "    print(f\"Error saat mengambil kurs: {e}. Menggunakan kurs default 1 USD = 15,000 IDR.\")\n",
        "    usd_to_idr_rate = 15000\n",
        "\n",
        "# Mengonversi prediksi harga dari USD ke IDR.\n",
        "future_prices_idr = future_prices_usd * usd_to_idr_rate\n",
        "\n",
        "print(\"\\nPrediksi harga Bitcoin untuk 7 hari ke depan (IDR):\")\n",
        "for i, price in enumerate(future_prices_idr):\n",
        "    print(f\"Hari ke-{i+1}: Rp {price:,.2f}\")\n",
        "\n",
        "print(\"\\n--- Proses selesai ---\")"
      ],
      "metadata": {
        "colab": {
          "base_uri": "https://localhost:8080/"
        },
        "id": "ET8SN2G4pK-u",
        "outputId": "78fd58f5-f6e9-432d-d71f-250feebdf478"
      },
      "execution_count": 18,
      "outputs": [
        {
          "output_type": "stream",
          "name": "stdout",
          "text": [
            "\n",
            "--- 6. Prediksi Harga Bitcoin 7 Hari ke Depan ---\n",
            "Prediksi harga Bitcoin untuk 7 hari ke depan (USD):\n",
            "Hari ke-1: $97,829.73\n",
            "Hari ke-2: $95,998.07\n",
            "Hari ke-3: $94,537.14\n",
            "Hari ke-4: $90,218.44\n",
            "Hari ke-5: $92,498.07\n",
            "Hari ke-6: $89,208.79\n",
            "Hari ke-7: $87,455.48\n",
            "\n",
            "Mengambil kurs USD ke IDR...\n",
            "Kurs USD ke IDR saat ini: Rp 16,324.00\n",
            "\n",
            "Prediksi harga Bitcoin untuk 7 hari ke depan (IDR):\n",
            "Hari ke-1: Rp 1,596,972,544.00\n",
            "Hari ke-2: Rp 1,567,072,512.00\n",
            "Hari ke-3: Rp 1,543,224,320.00\n",
            "Hari ke-4: Rp 1,472,725,760.00\n",
            "Hari ke-5: Rp 1,509,938,560.00\n",
            "Hari ke-6: Rp 1,456,244,224.00\n",
            "Hari ke-7: Rp 1,427,623,296.00\n",
            "\n",
            "--- Proses selesai ---\n"
          ]
        }
      ]
    }
  ]
}